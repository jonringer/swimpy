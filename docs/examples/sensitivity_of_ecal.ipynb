{
 "cells": [
  {
   "cell_type": "markdown",
   "metadata": {},
   "source": [
    "# Sensitivity of the *ecal* parameter\n",
    "This example shows a simple sensitivity analysis, i.e. running SWIM sucessively with the basin-wide *ecal* parameter changed each time. The discharge changes between those runs will be plotted."
   ]
  },
  {
   "cell_type": "code",
   "execution_count": null,
   "metadata": {
    "nbsphinx": "hidden"
   },
   "outputs": [],
   "source": [
    "# hidden cell to setup\n",
    "import swimpy, os\n",
    "%matplotlib inline\n",
    "\n",
    "project_path = os.path.join(os.path.dirname(swimpy.__file__), '../tests/project')\n",
    "os.chdir(project_path)\n",
    "if not os.path.exists('swimpy'):\n",
    "    p = swimpy.project.setup()"
   ]
  },
  {
   "cell_type": "code",
   "execution_count": null,
   "metadata": {},
   "outputs": [],
   "source": [
    "import os\n",
    "import pandas as pd\n",
    "from matplotlib import pyplot as plt\n",
    "\n",
    "import swimpy\n",
    "\n",
    "# load the project instance\n",
    "p = swimpy.Project()\n",
    "\n",
    "# run for two years and without subcatch\n",
    "p.config_parameters['nbyr'] = 2\n",
    "p.basin_parameters['subcatch'] = 0\n",
    "\n",
    "# run the model while changing the basin-wide ecal parameter\n",
    "ecal_values = [0.9, 1.0, 1.1]\n",
    "q = pd.DataFrame()\n",
    "for ecal in ecal_values:\n",
    "    p.basin_parameters['ecal'] = ecal\n",
    "    p.run(quiet=True, save=False)\n",
    "    # keep daily discharge at Blankenstein station\n",
    "    q[ecal] = p.station_daily_discharge['BLANKENSTEIN']\n",
    "    print('ecal=%s' % ecal)\n",
    "\n",
    "# visualise results\n",
    "ax = q['1992':].plot()\n",
    "plt.title('Sensitivity of ecal at Blankenstein')\n",
    "yl = plt.ylabel('Discharge [m^2s^-1]')"
   ]
  },
  {
   "cell_type": "markdown",
   "metadata": {},
   "source": [
    "## Convert to a (general) project function\n",
    "If you are doing this sort of sensitivity testing more often, you can convert this little script to a project function. It is then accessible on the commandline and as method on the *project* instance. Put the below code into your `swimpy/settings.py` file."
   ]
  },
  {
   "cell_type": "code",
   "execution_count": null,
   "metadata": {},
   "outputs": [],
   "source": [
    "def sensitivity_basin_parameter(project, parameter, values, plot=True):\n",
    "    \"\"\"Run the model with the parameter set to each value.\n",
    "    \"\"\"\n",
    "    q = pd.DataFrame()\n",
    "    for val in values:\n",
    "        project.basin_parameters[parameter] = val\n",
    "        project.run(quiet=True, save=False)\n",
    "        q[val] = project.station_daily_discharge['BLANKENSTEIN']\n",
    "        print('%s=%s' % (parameter, val))\n",
    "    if plot:\n",
    "        # visualise results\n",
    "        ax = q.plot()\n",
    "        plt.title('Sensitivity of %s at Blankenstein' % parameter)\n",
    "        yl = plt.ylabel('Discharge [m^2s^-1]')\n",
    "    return q"
   ]
  },
  {
   "cell_type": "code",
   "execution_count": null,
   "metadata": {
    "nbsphinx": "hidden"
   },
   "outputs": [],
   "source": [
    "# hidden: like adding it to settings.py \n",
    "p.settings(sensitivity_basin_parameter)"
   ]
  },
  {
   "cell_type": "markdown",
   "metadata": {},
   "source": [
    "The function `sensitivity_basin_parameter` is a generalisation of the above script and alows testing the sensitivity of any basin parameter (in the `.bsn` file). You can now use it in a python script, e.g.:"
   ]
  },
  {
   "cell_type": "code",
   "execution_count": null,
   "metadata": {},
   "outputs": [],
   "source": [
    "q = p.sensitivity_basin_parameter('ecal', [0.9, 1.0, 1.1])"
   ]
  },
  {
   "cell_type": "markdown",
   "metadata": {},
   "source": [
    "Or on the commandline, e.g.:\n",
    "```console\n",
    "$ swimpy sensitivity_basin_parameter ecal \"[0.9, 1.0, 1.1]\"\n",
    "```"
   ]
  }
 ],
 "metadata": {
  "kernelspec": {
   "display_name": "Python 2",
   "language": "python",
   "name": "python2"
  },
  "language_info": {
   "codemirror_mode": {
    "name": "ipython",
    "version": 2
   },
   "file_extension": ".py",
   "mimetype": "text/x-python",
   "name": "python",
   "nbconvert_exporter": "python",
   "pygments_lexer": "ipython2",
   "version": "2.7.14"
  }
 },
 "nbformat": 4,
 "nbformat_minor": 2
}
