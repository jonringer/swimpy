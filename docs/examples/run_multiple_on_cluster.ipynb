{
 "cells": [
  {
   "cell_type": "markdown",
   "metadata": {},
   "source": [
    "# Parallel runs on the PIK cluster (e.g. Monte Carlo runs)\n",
    "The example script below shows how to run SWIM in parallel on the PIK cluster, using the example of a Monte Carlo random parameter setting. It makes use of the project *cloning* functionality of SWIMpy and SLURM `sbatch` job submission that is executed in the background."
   ]
  },
  {
   "cell_type": "code",
   "execution_count": 16,
   "metadata": {
    "nbsphinx": "hidden"
   },
   "outputs": [
    {
     "name": "stdout",
     "output_type": "stream",
     "text": [
      "Initialising a new modelmanager project in: .\n",
      "with settings file in: ./swimpy/settings.py\n"
     ]
    }
   ],
   "source": [
    "# hidden cell: code to setup\n",
    "import swimpy, os\n",
    "%matplotlib inline\n",
    "\n",
    "project_path = os.path.join(os.path.dirname(swimpy.__file__), '../tests/project')\n",
    "os.chdir(project_path)\n",
    "if not os.path.exists('swimpy'):\n",
    "    p = swimpy.project.setup()"
   ]
  },
  {
   "cell_type": "code",
   "execution_count": null,
   "metadata": {},
   "outputs": [],
   "source": [
    "import os, time\n",
    "import pandas as pd\n",
    "from matplotlib import pyplot as plt\n",
    "import numpy as np\n",
    "\n",
    "import swimpy\n",
    "\n",
    "# number of runs\n",
    "nruns = 10\n",
    "\n",
    "# parameter and ranges (extend as needed)\n",
    "parameter = {'ecal': (0.8, 1.2),\n",
    "             'sccor': (0.1, 10),\n",
    "             'smrate': (0.1, 0.6)}\n",
    "\n",
    "# load the project instance\n",
    "p = swimpy.Project()\n",
    "\n",
    "# clone and submit\n",
    "for i in range(nruns):\n",
    "    name = 'monte_carlo_%02i' % i\n",
    "    clone = p.clone(name, Browser=None)  # disable Browser\n",
    "    # set random parameters\n",
    "    rnp = {k: np.random.uniform(*b) for k, b in parameter.items()}\n",
    "    clone.basin_parameters.update(rnp)\n",
    "    # submit cluster run\n",
    "    clone.run(cluster=name, tags='montecarlo %s' % name, files=['station_daily_discharge'])\n",
    "\n",
    "# wait and get for runs\n",
    "runs = p.browser.runs.wait(nruns, tags__contains='montecarlo')\n",
    "\n",
    "# unpack station_daily_discharge\n",
    "q = pd.DataFrame({r.id: r.station_daily_discharge['BLANKENSTEIN'] for r in runs})"
   ]
  },
  {
   "cell_type": "markdown",
   "metadata": {},
   "source": [
    "The default SLURM settings may be extended like a normal dictionary. E.g.:"
   ]
  },
  {
   "cell_type": "code",
   "execution_count": 14,
   "metadata": {},
   "outputs": [
    {
     "data": {
      "text/plain": [
       "{'account': 'swim', 'qos': 'medium', 'time': '0:0:01'}"
      ]
     },
     "execution_count": 14,
     "metadata": {},
     "output_type": "execute_result"
    }
   ],
   "source": [
    "p.slurmargs\n",
    "p.slurmargs.update({'qos': 'medium', 'time': '0:0:01'})\n",
    "p.slurmargs"
   ]
  }
 ],
 "metadata": {
  "kernelspec": {
   "display_name": "Python 2",
   "language": "python",
   "name": "python2"
  },
  "language_info": {
   "codemirror_mode": {
    "name": "ipython",
    "version": 2
   },
   "file_extension": ".py",
   "mimetype": "text/x-python",
   "name": "python",
   "nbconvert_exporter": "python",
   "pygments_lexer": "ipython2",
   "version": "2.7.14"
  }
 },
 "nbformat": 4,
 "nbformat_minor": 2
}
